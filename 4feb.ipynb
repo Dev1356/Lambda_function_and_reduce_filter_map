{
 "cells": [
  {
   "cell_type": "markdown",
   "id": "8c4237ef-d8fd-474d-bb14-3491218b058a",
   "metadata": {},
   "source": [
    "###Q1. Create a python program to sort the given list of tuples based on integer value using a \n",
    "lambda function. \n",
    "\n",
    "\n",
    "[('Sachin Tendulkar', 34357), ('Ricky Ponting', 27483), ('Jack Kallis', 25534), ('Virat Kohli', 24936)]"
   ]
  },
  {
   "cell_type": "code",
   "execution_count": 9,
   "id": "f8ef8c82-fe16-42b9-a614-9e7571cecc19",
   "metadata": {},
   "outputs": [],
   "source": [
    "l=[('Sachin Tendulkar', 34357), ('Ricky Ponting', 27483), ('Jack Kallis', 25534), ('Virat Kohli', 24936)]\n"
   ]
  },
  {
   "cell_type": "code",
   "execution_count": 16,
   "id": "4577b85f-e80d-4e65-b1eb-515bc6e1a41e",
   "metadata": {},
   "outputs": [],
   "source": [
    "result=list(map(lambda x:x[1],filter(lambda x:isinstance(x[1],int),l)))"
   ]
  },
  {
   "cell_type": "code",
   "execution_count": 17,
   "id": "3fafc304-b35c-4d73-a865-5c5462baf9b2",
   "metadata": {},
   "outputs": [
    {
     "data": {
      "text/plain": [
       "[34357, 27483, 25534, 24936]"
      ]
     },
     "execution_count": 17,
     "metadata": {},
     "output_type": "execute_result"
    }
   ],
   "source": [
    "result"
   ]
  },
  {
   "cell_type": "markdown",
   "id": "a5d349cb-ae0f-4606-bd07-313a3e98dfbe",
   "metadata": {},
   "source": [
    "_Q2. Write a Python Program to find the squares of all the numbers in the given list of integers using \n",
    "lambda and map functions._\n",
    "\n",
    "\n",
    "[1, 2, 3, 4, 5, 6, 7, 8, 9, 10]"
   ]
  },
  {
   "cell_type": "code",
   "execution_count": 19,
   "id": "9bfc1a72-1cbb-4775-ad51-63542d1c7b96",
   "metadata": {},
   "outputs": [],
   "source": [
    "lst=[1, 2, 3, 4, 5, 6, 7, 8, 9, 10]"
   ]
  },
  {
   "cell_type": "code",
   "execution_count": 20,
   "id": "ff8e210a-f42b-4515-8d3c-db1713c62182",
   "metadata": {},
   "outputs": [],
   "source": [
    "result=list(map(lambda x:x**2,lst))"
   ]
  },
  {
   "cell_type": "code",
   "execution_count": 21,
   "id": "f926243f-3b8d-403d-a5ca-bf9a1983b956",
   "metadata": {},
   "outputs": [
    {
     "data": {
      "text/plain": [
       "[1, 4, 9, 16, 25, 36, 49, 64, 81, 100]"
      ]
     },
     "execution_count": 21,
     "metadata": {},
     "output_type": "execute_result"
    }
   ],
   "source": [
    "result"
   ]
  },
  {
   "cell_type": "raw",
   "id": "74a667b2-0dbb-443e-9d21-d46d5f45bf55",
   "metadata": {},
   "source": [
    "Q3. Write a python program to convert the given list of integers into a tuple of strings. Use map and \n",
    "lambda functions\n",
    "\n",
    "\n",
    "Given String: [1, 2, 3, 4, 5, 6, 7, 8, 9, 10]\n",
    "\n",
    "Expected output: ('1', '2', '3', '4', '5', '6', '7', '8', '9', '10')"
   ]
  },
  {
   "cell_type": "code",
   "execution_count": 29,
   "id": "0b87cee4-a69a-41f8-b362-cb3b11d6ddd8",
   "metadata": {},
   "outputs": [],
   "source": [
    "lst3=[1, 2, 3, 4, 5, 6, 7, 8, 9, 10]\n",
    "result=tuple(map(lambda x:str(x),lst3))"
   ]
  },
  {
   "cell_type": "code",
   "execution_count": 30,
   "id": "97ca0a56-b76d-4584-a0e4-575b2647476b",
   "metadata": {},
   "outputs": [
    {
     "data": {
      "text/plain": [
       "('1', '2', '3', '4', '5', '6', '7', '8', '9', '10')"
      ]
     },
     "execution_count": 30,
     "metadata": {},
     "output_type": "execute_result"
    }
   ],
   "source": [
    "result"
   ]
  },
  {
   "cell_type": "markdown",
   "id": "42259efb-3467-4540-8c8b-3a884065da33",
   "metadata": {},
   "source": [
    "Q4.Write a python program using reduce function to compute the product of a list containing numbers \n",
    "from 1 to 25"
   ]
  },
  {
   "cell_type": "code",
   "execution_count": 31,
   "id": "7532eca1-8f2d-4cb7-bd28-f50ef530ad96",
   "metadata": {},
   "outputs": [],
   "source": [
    "from functools import reduce "
   ]
  },
  {
   "cell_type": "code",
   "execution_count": 32,
   "id": "48e8e289-add9-4e56-a7aa-844a2afc54ab",
   "metadata": {},
   "outputs": [],
   "source": [
    "lst4=list(range(1,25))"
   ]
  },
  {
   "cell_type": "code",
   "execution_count": 34,
   "id": "c3b1b874-176f-469a-b851-e3da2064661e",
   "metadata": {},
   "outputs": [
    {
     "data": {
      "text/plain": [
       "620448401733239439360000"
      ]
     },
     "execution_count": 34,
     "metadata": {},
     "output_type": "execute_result"
    }
   ],
   "source": [
    "reduce(lambda x,y:x*y,lst4)"
   ]
  },
  {
   "cell_type": "markdown",
   "id": "86d0aec0-ef5b-4c68-9dea-a926ae9806d1",
   "metadata": {},
   "source": [
    "Q5. Write a python program to filter the numbers in a given list that are divisible by 2 and 3 using the \n",
    "filter function."
   ]
  },
  {
   "cell_type": "code",
   "execution_count": 1,
   "id": "e1606cf7-3988-4528-b2d9-0c01a01fecbe",
   "metadata": {},
   "outputs": [],
   "source": [
    "lst4=[2, 3, 6, 9, 27, 60, 90, 120, 55, 46]"
   ]
  },
  {
   "cell_type": "code",
   "execution_count": 7,
   "id": "7acede34-a0f0-44d6-9170-f9dfad4f2cff",
   "metadata": {},
   "outputs": [
    {
     "data": {
      "text/plain": [
       "[6, 60, 90, 120]"
      ]
     },
     "execution_count": 7,
     "metadata": {},
     "output_type": "execute_result"
    }
   ],
   "source": [
    "list(filter(lambda x:x%2==0 and x%3==0,lst4))"
   ]
  },
  {
   "cell_type": "markdown",
   "id": "dbb39885-a840-4d82-a42f-c19e6a086646",
   "metadata": {},
   "source": [
    "Q6. Write a python program to find palindromes in the given list of strings using lambda and filter \n",
    "function.\n",
    "\n",
    "\n",
    "['python', 'php', 'aba', 'radar', 'level']"
   ]
  },
  {
   "cell_type": "code",
   "execution_count": 8,
   "id": "2850ad48-44ec-40b7-ac4d-c95674631b6e",
   "metadata": {},
   "outputs": [],
   "source": [
    "lst6=['python', 'php', 'aba', 'radar', 'level']"
   ]
  },
  {
   "cell_type": "code",
   "execution_count": 9,
   "id": "73283fcf-61fe-4291-bbce-6940fa8b1d52",
   "metadata": {},
   "outputs": [
    {
     "data": {
      "text/plain": [
       "['php', 'aba', 'radar', 'level']"
      ]
     },
     "execution_count": 9,
     "metadata": {},
     "output_type": "execute_result"
    }
   ],
   "source": [
    "list(filter(lambda x:x==x[::-1],lst6))"
   ]
  },
  {
   "cell_type": "code",
   "execution_count": null,
   "id": "2a8704d1-ecd5-4cd6-b6d7-8a1e6dfdf73a",
   "metadata": {},
   "outputs": [],
   "source": []
  }
 ],
 "metadata": {
  "kernelspec": {
   "display_name": "Python 3 (ipykernel)",
   "language": "python",
   "name": "python3"
  },
  "language_info": {
   "codemirror_mode": {
    "name": "ipython",
    "version": 3
   },
   "file_extension": ".py",
   "mimetype": "text/x-python",
   "name": "python",
   "nbconvert_exporter": "python",
   "pygments_lexer": "ipython3",
   "version": "3.10.8"
  }
 },
 "nbformat": 4,
 "nbformat_minor": 5
}
